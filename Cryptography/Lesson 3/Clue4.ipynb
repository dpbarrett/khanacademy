{
 "cells": [
  {
   "cell_type": "markdown",
   "metadata": {},
   "source": [
    "# Clue #4\n",
    "\n",
    "![Clue4-01](Clue%204/Clue4-01.jpg)\n",
    "\n",
    "![Clue4-02](Clue%204/Clue4-02.jpg)\n",
    "\n",
    "![Clue4-03](Clue%204/Clue4-03.jpg)\n",
    "\n",
    "![Clue4-04](Clue%204/Clue4-04.jpg)\n",
    "\n",
    "![Clue4-05](Clue%204/Clue4-05.jpg)\n",
    "\n",
    "![Clue4-06](Clue%204/Clue4-06.jpg)\n",
    "\n",
    "![Clue4-07](Clue%204/Clue4-07.jpg)\n",
    "\n",
    "![Clue4-08](Clue%204/Clue4-08.jpg)\n",
    "\n",
    "![Clue4-09](Clue%204/Clue4-09.jpg)\n",
    "\n",
    "![Clue4-10](Clue%204/Clue4-10.jpg)\n",
    "\n",
    "| | | | | | | | | | | | | | | | |\n",
    "|--|--|--|--|--|--|--|--|--|--|--|--|--|--|--|--|\n",
    "|B|r|i|l|l|i|a|n|t| |d|r|i|v|e|n|\n",
    "|0|0|1|0|0|1|1|0|0| |0|0|1|0|1|0|\n",
    "\n",
    "- consonants are zeros\n",
    "- vowels are ones\n",
    "\n",
    "|  |  | |  |  |\n",
    "|:--:|:--:|:--:|:--:|:--:|\n",
    "| N  | 00 | | SE | 00 |\n",
    "| E  | 01 | | SW | 01 |\n",
    "| S  | 10 | | NW | 10 |\n",
    "| W  | 11 | | NE | 11 |\n"
   ]
  }
 ],
 "metadata": {
  "language_info": {
   "name": "python"
  }
 },
 "nbformat": 4,
 "nbformat_minor": 2
}
