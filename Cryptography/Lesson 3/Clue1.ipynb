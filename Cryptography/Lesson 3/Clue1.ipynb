{
 "cells": [
  {
   "cell_type": "markdown",
   "metadata": {},
   "source": [
    "# Clue #1\n",
    "\n",
    "## Card 1\n",
    "\n",
    "vwduw ljudeehghyhubwklq\n",
    "jlfrxogilqgsohdvhuhwxuq\n",
    "dqbeoxhsulqwviruydxowd\n",
    "qgdodupghvljqedvhgrqzk\n",
    "lfkedqnbrxghflghrqldpvhw\n",
    "wlqjxsvdihkrxvhfr\n",
    "\n",
    "------------------------\n",
    "\n",
    "## Card 2\n",
    "\n",
    "gluhtlishjrvbadvyyplkaoh\n",
    "avbyjpwolypzavvdlhrvuu\n",
    "leatlzzhnlzdpajoavcpnl\n",
    "ulyljpwolyrlfdvykpzaolo\n",
    "pkkluzftivsvmklhaoput\n",
    "fmhcvypalovsilpuluk\n"
   ]
  }
 ],
 "metadata": {
  "language_info": {
   "name": "python"
  }
 },
 "nbformat": 4,
 "nbformat_minor": 2
}
