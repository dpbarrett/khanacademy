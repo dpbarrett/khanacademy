{
  "cells": [
    {
      "cell_type": "markdown",
      "metadata": {
        "id": "edrAHCFv_dOy"
      },
      "source": [
        "# Clue #1\n",
        "\n",
        "## Card 1\n",
        "\n",
        "vwduw ljudeehghyhubwklq\n",
        "jlfrxogilqgsohdvhuhwxuq\n",
        "dqbeoxhsulqwviruydxowd\n",
        "qgdodupghvljqedvhgrqzk\n",
        "lfkedqnbrxghflghrqldpvhw\n",
        "wlqjxsvdihkrxvhfr\n",
        "\n",
        "------------------------\n",
        "\n",
        "## Card 2\n",
        "\n",
        "gluhtlishjrvbadvyyplkaoh\n",
        "avbyjpwolypzavvdlhrvuu\n",
        "leatlzzhnlzdpajoavcpnl\n",
        "ulyljpwolyrlfdvykpzaolo\n",
        "pkkluzftivsvmklhaoput\n",
        "fmhcvypalovsilpuluk\n"
      ]
    },
    {
      "cell_type": "code",
      "source": [
        "card1 = \"vwduw ljudeehghyhubwklq jlfrxogilqgsohdvhuhwxuq dqbeoxhsulqwviruydxowd qgdodupghvljqedvhgrqzk lfkedqnbrxghflghrqldpvhw wlqjxsvdihkrxvhfr\"\n",
        "card2 = \"gluhtlishjrvbadvyyplkaoh avbyjpwolypzavvdlhrvuu leatlzzhnlzdpajoavcpnl ulyljpwolyrlfdvykpzaolo pkkluzftivsvmklhaoput fmhcvypalovsilpuluk\"\n",
        "\n",
        "def caesar_cipher(text, shift, alphabet='abcdefghijklmnopqrstuvwxyzABCDEFGHIJKLMNOPQRSTUVWXYZ', case_sensitive=False, handle_non_alpha='keep', decrypt=False):\n",
        "    result = []\n",
        "    if not case_sensitive:\n",
        "        alphabet = alphabet.lower()\n",
        "        text = text.lower()\n",
        "        n = len(alphabet)\n",
        "        for char in text:\n",
        "            if char in alphabet:\n",
        "                index = alphabet.find(char)\n",
        "                shifted_index = (index + (-shift if decrypt else shift)) % n\n",
        "                result.append(alphabet[shifted_index])\n",
        "            else:\n",
        "                if handle_non_alpha == 'keep':\n",
        "                    result.append(char)\n",
        "                elif handle_non_alpha == 'ignore':\n",
        "                    pass\n",
        "    else:\n",
        "        n = len(alphabet)\n",
        "        for char in text:\n",
        "            if char in alphabet:\n",
        "                index = alphabet.find(char)\n",
        "                shifted_index = (index + (-shift if decrypt else shift)) % n\n",
        "                result.append(alphabet[shifted_index])\n",
        "            else:\n",
        "                if handle_non_alpha == 'keep':\n",
        "                    result.append(char)\n",
        "                elif handle_non_alpha == 'ignore':\n",
        "                    pass\n",
        "\n",
        "    return \"\".join(result)\n",
        "\n",
        "print(f\" 1: {caesar_cipher('vwduw ljudeehghyhubwklq', 1, decrypt=True)}\")\n",
        "print(f\" 2: {caesar_cipher('vwduw ljudeehghyhubwklq', 2, decrypt=True)}\")\n",
        "print(f\"\\t 3: {caesar_cipher('vwduw ljudeehghyhubwklq', 3, decrypt=True)}\")\n",
        "print(f\" 4: {caesar_cipher('vwduw ljudeehghyhubwklq', 4, decrypt=True)}\")\n",
        "print(f\" 5: {caesar_cipher('vwduw ljudeehghyhubwklq', 5, decrypt=True)}\")\n",
        "print(f\" 6: {caesar_cipher('vwduw ljudeehghyhubwklq', 6, decrypt=True)}\")\n",
        "print(f\" 7: {caesar_cipher('vwduw ljudeehghyhubwklq', 7, decrypt=True)}\")\n",
        "print(f\" 8: {caesar_cipher('vwduw ljudeehghyhubwklq', 8, decrypt=True)}\")\n",
        "print(f\" 9: {caesar_cipher('vwduw ljudeehghyhubwklq', 9, decrypt=True)}\")\n",
        "print(f\"10: {caesar_cipher('vwduw ljudeehghyhubwklq', 10, decrypt=True)}\")\n",
        "print(f\"11: {caesar_cipher('vwduw ljudeehghyhubwklq', 11, decrypt=True)}\")\n",
        "print(f\"12: {caesar_cipher('vwduw ljudeehghyhubwklq', 12, decrypt=True)}\")\n",
        "print(f\"13: {caesar_cipher('vwduw ljudeehghyhubwklq', 13, decrypt=True)}\")\n",
        "print(f\"14: {caesar_cipher('vwduw ljudeehghyhubwklq', 14, decrypt=True)}\")\n",
        "print(f\"15: {caesar_cipher('vwduw ljudeehghyhubwklq', 15, decrypt=True)}\")\n",
        "print(f\"16: {caesar_cipher('vwduw ljudeehghyhubwklq', 16, decrypt=True)}\")\n",
        "print(f\"17: {caesar_cipher('vwduw ljudeehghyhubwklq', 17, decrypt=True)}\")\n",
        "print(f\"18: {caesar_cipher('vwduw ljudeehghyhubwklq', 18, decrypt=True)}\")\n",
        "print(f\"19: {caesar_cipher('vwduw ljudeehghyhubwklq', 19, decrypt=True)}\")\n",
        "print(f\"20: {caesar_cipher('vwduw ljudeehghyhubwklq', 20, decrypt=True)}\")\n",
        "print(f\"21: {caesar_cipher('vwduw ljudeehghyhubwklq', 21, decrypt=True)}\")\n",
        "print(f\"22: {caesar_cipher('vwduw ljudeehghyhubwklq', 22, decrypt=True)}\")\n",
        "print(f\"23: {caesar_cipher('vwduw ljudeehghyhubwklq', 23, decrypt=True)}\")\n",
        "print(f\"24: {caesar_cipher('vwduw ljudeehghyhubwklq', 24, decrypt=True)}\")\n",
        "print(f\"25: {caesar_cipher('vwduw ljudeehghyhubwklq', 25, decrypt=True)}\")\n",
        "print(f\"26: {caesar_cipher('vwduw ljudeehghyhubwklq', 26, decrypt=True)}\")\n",
        "\n",
        "\n"
      ],
      "metadata": {
        "id": "oWIq-Kjo_36V",
        "outputId": "3bdc3fdc-7248-4cbf-f107-9aa9285c1ae4",
        "colab": {
          "base_uri": "https://localhost:8080/"
        }
      },
      "execution_count": 20,
      "outputs": [
        {
          "output_type": "stream",
          "name": "stdout",
          "text": [
            " 1: uvctv kitcddgfgxgtavjkp\n",
            " 2: tubsu jhsbccfefwfszuijo\n",
            "\t 3: start igrabbedeverythin\n",
            " 4: rszqs hfqzaadcdudqxsghm\n",
            " 5: qrypr gepyzzcbctcpwrfgl\n",
            " 6: pqxoq fdoxyybabsbovqefk\n",
            " 7: opwnp ecnwxxazaranupdej\n",
            " 8: novmo dbmvwwzyzqzmtocdi\n",
            " 9: mnuln caluvvyxypylsnbch\n",
            "10: lmtkm bzktuuxwxoxkrmabg\n",
            "11: klsjl ayjsttwvwnwjqlzaf\n",
            "12: jkrik zxirssvuvmvipkyze\n",
            "13: ijqhj ywhqrrutuluhojxyd\n",
            "14: hipgi xvgpqqtstktgniwxc\n",
            "15: ghofh wufoppsrsjsfmhvwb\n",
            "16: fgneg vtenoorqrirelguva\n",
            "17: efmdf usdmnnqpqhqdkftuz\n",
            "18: delce trclmmpopgpcjesty\n",
            "19: cdkbd sqbkllonofobidrsx\n",
            "20: bcjac rpajkknmnenahcqrw\n",
            "21: abizb qozijjmlmdmzgbpqv\n",
            "22: zahya pnyhiilklclyfaopu\n",
            "23: yzgxz omxghhkjkbkxeznot\n",
            "24: xyfwy nlwfggjijajwdymns\n",
            "25: wxevx mkveffihizivcxlmr\n",
            "26: vwduw ljudeehghyhubwklq\n"
          ]
        }
      ]
    },
    {
      "cell_type": "code",
      "source": [
        "print(caesar_cipher(card1, 3, decrypt=True))\n",
        "print(caesar_cipher(card2, 7, decrypt=True))"
      ],
      "metadata": {
        "id": "z_fOb-fKId9B",
        "outputId": "f76e83da-d05c-4bf4-afdd-8e958ca640e6",
        "colab": {
          "base_uri": "https://localhost:8080/"
        }
      },
      "execution_count": 19,
      "outputs": [
        {
          "output_type": "stream",
          "name": "stdout",
          "text": [
            "start igrabbedeverythin gicouldfindpleasereturn anyblueprintsforvaulta ndalarmdesignbasedonwh ichbankyoudecideoniamset tingupsafehouseco\n",
            "zenameblackoutworriedtha tourcipheristooweakonn extmessageswitchtovige nerecipherkeywordistheh iddensymbolofdeathinm yfavoriteholbeinend\n"
          ]
        }
      ]
    },
    {
      "cell_type": "markdown",
      "source": [
        "> start\n",
        "i grabbed everything i could find\n",
        "please return any blueprints for vault and alarm design based on which bank you decide on\n",
        "i am setting up safehouse cozename blackout\n",
        "worried that our cipher is too weak\n",
        "on next message switch to vigenere cipher\n",
        "keyword is the hidden symbol of death in my favorite holbein\n",
        "end\n",
        "\n"
      ],
      "metadata": {
        "id": "uYnN0OumHF99"
      }
    },
    {
      "cell_type": "markdown",
      "source": [
        "## Explanation of the Code\n",
        "\n",
        "The Python code defines a function `caesar_cipher` that implements a configurable Caesar Cipher with an option to decrypt.\n",
        "\n",
        "**Parameters:**\n",
        "\n",
        "-   `text`: The input string that needs to be encrypted or decrypted.\n",
        "-   `shift`: An integer representing the number of positions to shift each character in the alphabet. A positive value shifts to the right (encryption), and a negative value shifts to the left (decryption).\n",
        "-   `alphabet`: An optional string specifying the alphabet to be used for the cipher. It defaults to lowercase and uppercase English letters. You can customize this to include other characters like digits or symbols.\n",
        "-   `case_sensitive`: An optional boolean indicating whether the cipher should treat uppercase and lowercase letters separately. It defaults to `False`, meaning they are treated together (by converting to lowercase). If set to `True`, the shift will occur within the provided alphabet, respecting the case.\n",
        "-   `handle_non_alpha`: An optional string that specifies how to handle characters in the input text that are not found in the provided `alphabet`. It defaults to `'keep'`, which means these characters are included in the output unchanged. Another option is `'ignore'`, which will remove these characters from the output.\n",
        "-   `decrypt`: An optional boolean flag. If set to `True`, the function will perform decryption by shifting the characters in the opposite direction of the `shift` value. It defaults to `False` (encryption).\n",
        "\n",
        "**Functionality:**\n",
        "\n",
        "1.  **Case Handling:** If `case_sensitive` is `False`, the input `text` and the `alphabet` are converted to lowercase to treat them together.\n",
        "2.  **Iteration:** The code iterates through each character in the input `text`.\n",
        "3.  **Alphabet Check:** For each character, it checks if the character is present in the `alphabet`.\n",
        "4.  **Shifting (Encryption/Decryption):** If the character is in the `alphabet`:\n",
        "    -   Its index in the `alphabet` is found.\n",
        "    -   The index is shifted by the `shift` value. If `decrypt` is `True`, the shift is effectively negated. The modulo operator `%` is used to handle wrapping around the alphabet.\n",
        "    -   The character at the new index in the `alphabet` is retrieved and added to the result.\n",
        "5.  **Handling Non-Alphabetic Characters:** If the character is not in the `alphabet`:\n",
        "    -   If `handle_non_alpha` is `'keep'`, the original character is added to the result.\n",
        "    -   If `handle_non_alpha` is `'ignore'`, the character is skipped (not added to the result).\n",
        "6.  **Result:** Finally, the function returns the concatenated string of the shifted (or kept/ignored) characters."
      ],
      "metadata": {
        "id": "sUAoAwxRBQf9"
      }
    },
    {
      "cell_type": "markdown",
      "source": [
        "## Explanation of Efficiency\n",
        "\n",
        "The efficiency of the `caesar_cipher` function remains largely the same as in the previous version:\n",
        "\n",
        "**Time Complexity:**\n",
        "\n",
        "-   The function iterates through each character in the input `text` (length $L$).\n",
        "-   Inside the loop, operations like checking if a character is in the alphabet (length $A$), finding its index, and performing the shift take time that is at most proportional to $A$ (length of the alphabet).\n",
        "-   The decryption flag adds a constant time check within the loop.\n",
        "-   Thus, the overall time complexity is still $O(L \\times A)$. If the alphabet size $A$ is considered constant (e.g., for English letters), the time complexity is $O(L)$, which is linear with respect to the length of the input text.\n",
        "\n",
        "**Space Complexity:**\n",
        "\n",
        "-   The function creates a list `result` to store the output, which can have a length up to $L$.\n",
        "-   It also uses the input `text` and `alphabet` which take space proportional to their lengths.\n",
        "-   The space complexity remains $O(L + A)$, or $O(L)$ if $A$ is constant.\n",
        "\n",
        "The addition of the `decrypt` flag does not change the fundamental efficiency of the algorithm. It just alters the direction of the shift, which is a constant time operation within the loop."
      ],
      "metadata": {
        "id": "oHM3kJ1KBTfh"
      }
    },
    {
      "cell_type": "markdown",
      "source": [
        "## Sources\n",
        "\n",
        "The sources remain the same as for the basic Caesar Cipher:\n",
        "\n",
        "1.  **Wikipedia:** [https://en.wikipedia.org/wiki/Caesar_cipher](https://en.wikipedia.org/wiki/Caesar_cipher)\n",
        "2.  **Cryptography Textbooks and Websites:** Introductory materials on cryptography.\n",
        "3.  **Educational Resources:** Many resources for learning programming or basic cryptography."
      ],
      "metadata": {
        "id": "2VvHDVuQFVQ-"
      }
    }
  ],
  "metadata": {
    "language_info": {
      "name": "python"
    },
    "colab": {
      "provenance": []
    },
    "kernelspec": {
      "name": "python3",
      "display_name": "Python 3"
    }
  },
  "nbformat": 4,
  "nbformat_minor": 0
}