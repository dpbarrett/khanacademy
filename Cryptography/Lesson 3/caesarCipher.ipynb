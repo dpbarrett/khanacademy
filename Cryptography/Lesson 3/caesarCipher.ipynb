{
 "cells": [
  {
   "cell_type": "code",
   "execution_count": null,
   "metadata": {
    "vscode": {
     "languageId": "javascript"
    }
   },
   "outputs": [],
   "source": [
    "function caesarCipher(text, shift) {\n",
    "  let result = '';\n",
    "\n",
    "  for (let i = 0; i < text.length; i++) {\n",
    "    let char = text[i];\n",
    "    if (char.match(/[a-z]/i)) {\n",
    "      const code = text.charCodeAt(i);\n",
    "      let shiftedCode;\n",
    "      if (code >= 65 && code <= 90) { // Uppercase letters\n",
    "          shiftedCode = ((code - 65 + shift) % 26 + 26) % 26 + 65;\n",
    "      } else if (code >= 97 && code <= 122) { // Lowercase letters\n",
    "          shiftedCode = ((code - 97 + shift) % 26 + 26) % 26 + 97;\n",
    "      }\n",
    "      result += String.fromCharCode(shiftedCode);\n",
    "    } else {\n",
    "      result += char;\n",
    "    }\n",
    "  }\n",
    "  return result;\n",
    "}\n",
    "\n",
    "var inputString = \"vwduw ljudeehghyhubwklq\";\n",
    "var offset = 4;\n",
    "\n",
    "caesarCipher( inputString, offset );\n",
    "\n"
   ]
  }
 ],
 "metadata": {
  "language_info": {
   "name": "python"
  }
 },
 "nbformat": 4,
 "nbformat_minor": 2
}
