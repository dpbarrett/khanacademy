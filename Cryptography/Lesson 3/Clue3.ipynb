{
  "cells": [
    {
      "cell_type": "markdown",
      "metadata": {
        "id": "6A1t2Z2ANttd"
      },
      "source": [
        "# Clue #3\n",
        "\n",
        "- Hint 1: [Visual Telegraphs](https://www.khanacademy.org/computing/computer-science/informationtheory/info-theory/v/history-of-optical-telegraphs-language-of-coins-5-9)\n",
        "\n",
        "## Transcript of Message:\n",
        "\n",
        "44541134541123335344541242\n",
        "43424432514121231131135315\n",
        "54425442444243443251415343\n",
        "54324234411125513553341342\n",
        "43225343114454345343225134\n",
        "31421432513412533412155415\n",
        "34513351444411225144425442\n",
        "44441534512355154321345111\n",
        "13112123514254315333214243\n",
        "51445315341434512542531544\n",
        "335154325341443 (cut off)\n",
        "43513544"
      ]
    },
    {
      "cell_type": "code",
      "source": [
        "msg = \"44541134541123335344541242 43424432514121231131135315 54425442444243443251415343 54324234411125513553341342 43225343114454345343225134 31421432513412533412155415 34513351444411225144425442 44441534512355154321345111 13112123514254315333214243 51445315341434512542531544\"\n",
        "msg2 = \"335154325341443\"\n",
        "msg3 = \"43513544\"\n",
        "\n",
        "def polybius_cipher(text, square_size=5, alphabet='ABCDEFGHIKLMNOPQRSTUVWXYZ', mapping_order='row-major', coordinate_representation='digits-rc', case_sensitive=False, handle_non_alpha='keep', decrypt=False, i_j_combined=True, display_square=False):\n",
        "    if not case_sensitive:\n",
        "        text = text.upper()\n",
        "        alphabet = alphabet.upper()\n",
        "\n",
        "    if square_size * square_size < len(set(alphabet)):\n",
        "        raise ValueError(\"Alphabet size exceeds the capacity of the Polybius square.\")\n",
        "\n",
        "    if square_size == 5 and i_j_combined:\n",
        "        alphabet = alphabet.replace('J', '').upper()\n",
        "        text = text.replace('J', 'I').upper()\n",
        "        if len(alphabet) > 25:\n",
        "            alphabet = alphabet[:25]\n",
        "    elif len(alphabet) != square_size * square_size:\n",
        "        pass\n",
        "\n",
        "    alphabet_list = sorted(list(set(alphabet)))\n",
        "    square = {}\n",
        "    lookup = {}\n",
        "    index = 0\n",
        "\n",
        "    if mapping_order == 'row-major':\n",
        "        for r in range(square_size):\n",
        "            for c in range(square_size):\n",
        "                if index < len(alphabet_list):\n",
        "                    char = alphabet_list[index]\n",
        "                    square[char] = (r + 1, c + 1)\n",
        "                    lookup[(r + 1, c + 1)] = char\n",
        "                    index += 1\n",
        "    elif mapping_order == 'column-major':\n",
        "        for c in range(square_size):\n",
        "            for r in range(square_size):\n",
        "                if index < len(alphabet_list):\n",
        "                    char = alphabet_list[index]\n",
        "                    square[char] = (r + 1, c + 1)\n",
        "                    lookup[(r + 1, c + 1)] = char\n",
        "                    index += 1\n",
        "    else:\n",
        "        raise ValueError(f\"Mapping order '{mapping_order}' not supported.\")\n",
        "\n",
        "    if display_square:\n",
        "        if square:\n",
        "            display_grid(square, square_size)\n",
        "        elif lookup:\n",
        "            display_grid(lookup, square_size)\n",
        "\n",
        "    result = []\n",
        "\n",
        "    if not decrypt:\n",
        "        for char in text:\n",
        "            if char in square:\n",
        "                row, col = square[char]\n",
        "                if coordinate_representation == 'digits-rc':\n",
        "                    result.append(str(row) + str(col))\n",
        "            else:\n",
        "                if handle_non_alpha == 'keep':\n",
        "                    result.append(char)\n",
        "                elif handle_non_alpha == 'ignore':\n",
        "                    pass\n",
        "    else:\n",
        "        i = 0\n",
        "        while i < len(text):\n",
        "            if text[i].isdigit() and i + 1 < len(text) and text[i+1].isdigit():\n",
        "                row = int(text[i])\n",
        "                col = int(text[i+1])\n",
        "                if (row, col) in lookup:\n",
        "                    result.append(lookup[(row, col)])\n",
        "                i += 2\n",
        "            else:\n",
        "                if handle_non_alpha == 'keep':\n",
        "                    result.append(text[i])\n",
        "                i += 1\n",
        "\n",
        "    return \"\".join(result)\n",
        "\n",
        "def display_grid(grid_dict, square_size=None):\n",
        "    if not grid_dict:\n",
        "        print(\"Empty dictionary.\")\n",
        "        return\n",
        "\n",
        "    first_key = next(iter(grid_dict))\n",
        "    if isinstance(first_key, str) and len(first_key) == 1:\n",
        "        if square_size is None:\n",
        "            size = int(len(grid_dict)**0.5)\n",
        "            if size * size != len(grid_dict):\n",
        "                print(\"Could not infer square size. Please provide it.\")\n",
        "                return\n",
        "            square_size = size\n",
        "\n",
        "        print(\"Polybius Square (Character -> Coordinates):\")\n",
        "        print(\"  \", end=\"\")\n",
        "        for c in range(1, square_size + 1):\n",
        "            print(f\"{c:2} \", end=\"\")\n",
        "        print()\n",
        "        print(\"-\" * (4 * square_size + 2))\n",
        "        for r in range(1, square_size + 1):\n",
        "            print(f\"{r}|\", end=\"\")\n",
        "            for c in range(1, square_size + 1):\n",
        "                found = False\n",
        "                for char, (row, col) in grid_dict.items():\n",
        "                    if row == r and col == c:\n",
        "                        print(f\"{char:2} \", end=\"\")\n",
        "                        found = True\n",
        "                        break\n",
        "                if not found:\n",
        "                    print(\"   \", end=\"\")\n",
        "            print()\n",
        "\n",
        "    elif isinstance(first_key, tuple) and len(first_key) == 2 and all(isinstance(x, int) for x in first_key):\n",
        "        if square_size is None:\n",
        "            max_row = 0\n",
        "            max_col = 0\n",
        "            for row, col in grid_dict.keys():\n",
        "                max_row = max(max_row, row)\n",
        "                max_col = max(max_col, col)\n",
        "            square_size = max(max_row, max_col)\n",
        "\n",
        "        print(\"Polybius Square (Coordinates -> Character):\")\n",
        "        print(\"  \", end=\"\")\n",
        "        for c in range(1, square_size + 1):\n",
        "            print(f\"{c:2} \", end=\"\")\n",
        "        print()\n",
        "        print(\"-\" * (4 * square_size + 2))\n",
        "        for r in range(1, square_size + 1):\n",
        "            print(f\"{r}|\", end=\"\")\n",
        "            for c in range(1, square_size + 1):\n",
        "                char = grid_dict.get((r, c), ' ')\n",
        "                print(f\"{char:2} \", end=\"\")\n",
        "            print()\n",
        "\n",
        "    else:\n",
        "        print(\"Dictionary format not recognized as a Polybius square mapping.\")\n",
        "\n",
        "\n",
        "encrypted_text = polybius_cipher(\"HELLO\", display_square=True)\n",
        "print(f\"Encrypted: {encrypted_text}\")\n",
        "\n",
        "decrypted_text = polybius_cipher(encrypted_text, decrypt=True, display_square=True)\n",
        "print(f\"Decrypted: {decrypted_text}\")\n",
        "\n",
        "encrypted_text_col_major = polybius_cipher(\"WORLD\", mapping_order='column-major', display_square=True)\n",
        "print(f\"Encrypted (column-major): {encrypted_text_col_major}\")\n",
        "\n",
        "decrypted_text_col_major = polybius_cipher(encrypted_text_col_major, mapping_order='column-major', decrypt=True, display_square=True)\n",
        "print(f\"Decrypted (column-major): {decrypted_text_col_major}\")\n",
        "\n"
      ],
      "metadata": {
        "id": "WYefLifSNwvQ",
        "outputId": "34d10c1b-d191-4835-8667-b4aeb7f9deae",
        "colab": {
          "base_uri": "https://localhost:8080/"
        }
      },
      "execution_count": 14,
      "outputs": [
        {
          "output_type": "stream",
          "name": "stdout",
          "text": [
            "Polybius Square (Character -> Coordinates):\n",
            "   1  2  3  4  5 \n",
            "----------------------\n",
            "1|A  B  C  D  E  \n",
            "2|F  G  H  I  K  \n",
            "3|L  M  N  O  P  \n",
            "4|Q  R  S  T  U  \n",
            "5|V  W  X  Y  Z  \n",
            "Encrypted: 2315313134\n",
            "Polybius Square (Character -> Coordinates):\n",
            "   1  2  3  4  5 \n",
            "----------------------\n",
            "1|A  B  C  D  E  \n",
            "2|F  G  H  I  K  \n",
            "3|L  M  N  O  P  \n",
            "4|Q  R  S  T  U  \n",
            "5|V  W  X  Y  Z  \n",
            "Decrypted: HELLO\n",
            "Polybius Square (Character -> Coordinates):\n",
            "   1  2  3  4  5 \n",
            "----------------------\n",
            "1|A  F  L  Q  V  \n",
            "2|B  G  M  R  W  \n",
            "3|C  H  N  S  X  \n",
            "4|D  I  O  T  Y  \n",
            "5|E  K  P  U  Z  \n",
            "Encrypted (column-major): 2543241341\n",
            "Polybius Square (Character -> Coordinates):\n",
            "   1  2  3  4  5 \n",
            "----------------------\n",
            "1|A  F  L  Q  V  \n",
            "2|B  G  M  R  W  \n",
            "3|C  H  N  S  X  \n",
            "4|D  I  O  T  Y  \n",
            "5|E  K  P  U  Z  \n",
            "Decrypted (column-major): WORLD\n"
          ]
        }
      ]
    },
    {
      "cell_type": "code",
      "source": [
        "decrypted_text_col_major = polybius_cipher(msg, mapping_order='column-major', decrypt=True, display_square=True)\n",
        "print(f\"Decrypted (column-major): {decrypted_text_col_major}\")"
      ],
      "metadata": {
        "id": "o_S5ynEBUdDb",
        "outputId": "7ed20d93-b389-4287-9e15-431200f131c1",
        "colab": {
          "base_uri": "https://localhost:8080/"
        }
      },
      "execution_count": 7,
      "outputs": [
        {
          "output_type": "stream",
          "name": "stdout",
          "text": [
            "Polybius Square (Character -> Coordinates):\n",
            "   1  2  3  4  5 \n",
            "----------------------\n",
            "1|A  F  L  Q  V  \n",
            "2|B  G  M  R  W  \n",
            "3|C  H  N  S  X  \n",
            "4|D  I  O  T  Y  \n",
            "5|E  K  P  U  Z  \n",
            "Decrypted (column-major): TUASUAMNPTUFI OITHEDBMACLPV UIUITIOTHEDPO UHISDAWEXPSLI OGPOATUSPOGES CIQHESFPSFVUV SENETTAGETIUI TTVSEMZVOBSEA LABMEIUCPNBIO ETPVSQSEWIPVT\n"
          ]
        }
      ]
    },
    {
      "cell_type": "code",
      "source": [
        "decrypted_text = polybius_cipher(msg, mapping_order='column-major', alphabet=\"ABCDEFGHIJKLMNOPQRSTUVWXY\", i_j_combined=False, decrypt=True, display_square=True)\n",
        "print(f\"Decrypted: {decrypted_text}\")"
      ],
      "metadata": {
        "id": "To0v1PnCUwmG",
        "outputId": "a8558e09-3340-4248-adfc-e34b9371ef3c",
        "colab": {
          "base_uri": "https://localhost:8080/"
        }
      },
      "execution_count": 12,
      "outputs": [
        {
          "output_type": "stream",
          "name": "stdout",
          "text": [
            "Polybius Square (Character -> Coordinates):\n",
            "   1  2  3  4  5 \n",
            "----------------------\n",
            "1|A  F  K  P  U  \n",
            "2|B  G  L  Q  V  \n",
            "3|C  H  M  R  W  \n",
            "4|D  I  N  S  X  \n",
            "5|E  J  O  T  Y  \n",
            "Decrypted: STARTALMOSTFI NISHEDBLACKOU TITISINSHEDON THIRDAVEWORKI NGONASTRONGER CIPHERFORFUTU REMESSAGESITI SSURELYUNBREA KABLEITCOMBIN ESOURPREVIOUS\n"
          ]
        }
      ]
    },
    {
      "cell_type": "code",
      "source": [
        "decrypted_text = polybius_cipher(msg2, mapping_order='column-major', alphabet=\"ABCDEFGHIJKLMNOPQRSTUVWXY\", i_j_combined=False, decrypt=True, display_square=False)\n",
        "print(f\"Decrypted: {decrypted_text}\")"
      ],
      "metadata": {
        "id": "QlFSbAdlWeiA",
        "outputId": "5188ba81-eb2d-446b-cd28-e23cfe169eb0",
        "colab": {
          "base_uri": "https://localhost:8080/"
        }
      },
      "execution_count": 15,
      "outputs": [
        {
          "output_type": "stream",
          "name": "stdout",
          "text": [
            "Decrypted: METHODS3\n"
          ]
        }
      ]
    },
    {
      "cell_type": "markdown",
      "source": [
        "> START\n",
        "ALMOST FINISHED BLACKOUT\n",
        "IT IS IN SHED ON THIRD AVE\n",
        "WORKING ON A STRONGER CIPHER FOR FUTURE MESSAGES\n",
        "IT IS SURELY UNBREAKABLE\n",
        "IT COMBINES OUR PREVIOUS METHODS\n"
      ],
      "metadata": {
        "id": "VzNKDqnFPMo4"
      }
    },
    {
      "cell_type": "code",
      "source": [
        "decrypted_text = polybius_cipher(msg3, mapping_order='column-major', alphabet=\"ABCDEFGHIJKLMNOPQRSTUVWXY\", i_j_combined=False, decrypt=True, display_square=False)\n",
        "print(f\"Decrypted: {decrypted_text}\")"
      ],
      "metadata": {
        "id": "JsLYn6Z0W_YX",
        "outputId": "ac1e5b49-99a9-4e58-c25b-e8c3ab919933",
        "colab": {
          "base_uri": "https://localhost:8080/"
        }
      },
      "execution_count": 16,
      "outputs": [
        {
          "output_type": "stream",
          "name": "stdout",
          "text": [
            "Decrypted: NEWS\n"
          ]
        }
      ]
    },
    {
      "cell_type": "markdown",
      "source": [
        "## Explanation of the Code\n",
        "\n",
        "The Python code defines a function `polybius_cipher` that implements the Polybius Square Cipher with several configurable aspects, including the mapping order of the alphabet within the square.\n",
        "\n",
        "**Parameters:**\n",
        "\n",
        "-   `text` (str): The input string to be encrypted or decrypted.\n",
        "-   `square_size` (int, optional): The size of the Polybius square (e.g., 5 for a 5x5 square). Defaults to 5.\n",
        "-   `alphabet` (str, optional): A string defining the alphabet to be placed in the square. The length should match `square_size * square_size`. Defaults to 'ABCDEFGHIKLMNOPQRSTUVWXYZ'.\n",
        "-   `mapping_order` (str, optional): Specifies how the alphabet is placed in the square. Supported options are:\n",
        "    -   `'row-major'` (default): Fills the square row by row, from left to right, starting from the top row.\n",
        "    -   `'column-major'`: Fills the square column by column, from top to bottom, starting from the first column.\n",
        "-   `coordinate_representation` (str, optional): Specifies how coordinates are represented. Currently, only `'digits-rc'` (row then column as digits) is supported. Defaults to `'digits-rc'`.\n",
        "-   `case_sensitive` (bool, optional): Whether to treat uppercase and lowercase separately. Defaults to `False`.\n",
        "-   `handle_non_alpha` (str, optional): How to handle characters not in the alphabet ('keep' or 'ignore'). Defaults to `'keep'`.\n",
        "-   `decrypt` (bool, optional): If `True`, decrypt the text. Defaults to `False`.\n",
        "-   `i_j_combined` (bool, optional): For a 5x5 square, treats 'I' and 'J' as the same. Defaults to `True`.\n",
        "\n",
        "**Functionality:**\n",
        "\n",
        "1.  **Initialization and Parameter Handling:** The function takes the input parameters and performs initial processing like converting to uppercase if `case_sensitive` is `False`. It also handles the common case of a 5x5 square where 'I' and 'J' are combined.\n",
        "2.  **Square Creation:** It creates two dictionaries: `square` to map characters to their (row, column) coordinates, and `lookup` to map coordinates back to characters. ~The alphabet is placed in the square in row-major order (row by row).~ Coordinates are 1-based.\n",
        "*The function now supports two methods for arranging the alphabet in the Polybius square, controlled by the `mapping_order` parameter:*\n",
        "\n",
        "-   **Row-Major:** The alphabet is placed into the square by filling each row from left to right, starting with the first row.\n",
        "-   **Column-Major:** The alphabet is placed into the square by filling each column from top to bottom, starting with the first column.\n",
        "3.  **Encryption:** If `decrypt` is `False`:\n",
        "    -   It iterates through each character in the `text`.\n",
        "    -   If the character is in the `square` (i.e., in the alphabet), it retrieves its coordinates.\n",
        "    -   The coordinates are formatted based on `coordinate_representation` (currently only 'digits-rc' is supported).\n",
        "    -   Non-alphabetic characters are handled according to `handle_non_alpha`.\n",
        "4.  **Decryption:** If `decrypt` is `True`:\n",
        "    -   It iterates through the `text` (which is expected to be the ciphertext).\n",
        "    -   It looks for pairs of digits. Each pair is interpreted as row and column numbers.\n",
        "    -   If the coordinate pair is found in the `lookup` dictionary, it retrieves the corresponding character.\n",
        "    -   Non-coordinate characters (if `handle_non_alpha` was 'keep' during encryption) are included in the output.\n",
        "5.  **Output:** The function returns the resulting encrypted or decrypted string."
      ],
      "metadata": {
        "id": "Po9WGLf1PNxu"
      }
    },
    {
      "cell_type": "markdown",
      "source": [
        "## Explanation of Efficiency\n",
        "\n",
        "The efficiency of the `polybius_cipher` function can be analyzed as follows:\n",
        "\n",
        "**Time Complexity:**\n",
        "\n",
        "-   **Initialization:** Creating the square and lookup dictionaries takes time proportional to the size of the alphabet, which is at most <span class=\"math-inline\">square\\\\\\_size^2</span>. Let <span class=\"math-inline\">S \\= square\\\\\\_size</span>. This is <span class=\"math-inline\">O\\(S^2\\)</span>.\n",
        "-   **Encryption:** The function iterates through each character in the input `text` (length <span class=\"math-inline\">L</span>). For each character, it performs a lookup in the `square` dictionary (which takes <span class=\"math-inline\">O\\(1\\)</span> on average if implemented as a hash map). Formatting the output also takes constant time. Handling non-alphabetic characters is also <span class=\"math-inline\">O\\(1\\)</span>. Thus, encryption takes <span class=\"math-inline\">O\\(L\\)</span> time after the initial setup of the square.\n",
        "-   **Decryption:** The function iterates through the ciphertext. In the worst case (if all characters are part of the cipher), it processes two characters at a time to get coordinates. For each coordinate pair, it performs a lookup in the `lookup` dictionary (<span class=\"math-inline\">O\\(1\\)</span> on average). Handling non-alphabetic characters also takes <span class=\"math-inline\">O\\(1\\)</span>. Thus, decryption takes <span class=\"math-inline\">O\\(L'\\)</span> time where <span class=\"math-inline\">L'</span> is the length of the ciphertext (which could be twice the length of the original text if `digits-rc` is used and no non-alpha is kept).\n",
        "\n",
        "Overall, if we consider the square size and alphabet as fixed or small compared to the text length, the time complexity for both encryption and decryption is dominated by the length of the text, making it <span class=\"math-inline\">O\\(L\\)</span>.\n",
        "\n",
        "**Space Complexity:**\n",
        "\n",
        "-   The `square` and `lookup` dictionaries store the mapping between characters and coordinates, and vice versa. The size of these dictionaries is proportional to the size of the alphabet, which is at most <span class=\"math-inline\">S^2</span>. So, the space used is <span class=\"math-inline\">O\\(S^2\\)</span>.\n",
        "-   The `result` list stores the output, which can have a length up to <span class=\"math-inline\">L</span> (for encryption with non-alpha kept or ignored) or around <span class=\"math-inline\">L/2</span> (for decryption if ciphertext is just coordinates) or <span class=\"math-inline\">L</span> (if non-alpha is kept). So, the space used for the result is <span class=\"math-inline\">O\\(L\\)</span>.\n",
        "-   The space complexity is thus <span class=\"math-inline\">O\\(S^2 \\+ L\\)</span>. If the square size is small, the space complexity is dominated by the length of the text.\n",
        "\n",
        "**Use of Bit-wise Operations:**\n",
        "\n",
        "Bit-wise operations are not directly applicable to the Polybius Square Cipher, which is based on mapping characters to coordinates.\n",
        "\n",
        "**Use of Built-in Python Operations:**\n",
        "\n",
        "The code uses built-in Python operations like dictionary creation and lookup, string manipulation (`upper()`, `join()`), list operations (`list()`, `append()`, `index()` - though `index` on a list can be <span class=\"math-inline\">O\\(A\\)</span>, using a dictionary for `square` and `lookup` is more efficient for lookups).\n",
        "\n",
        "**Possible Optimizations:**\n",
        "\n",
        "-   The alphabet is converted to a list. If the alphabet is fixed, this could be done once outside the function.\n",
        "-   For decryption, the code iterates through the text looking for pairs of digits. This assumes the coordinate representation is always two digits. The code could be made more robust if the coordinate representation was more flexible (e.g., using a separator if coordinates can have more than one digit, or if letters are used)."
      ],
      "metadata": {
        "id": "FPiJopgIPTlN"
      }
    },
    {
      "cell_type": "markdown",
      "source": [
        "## Sources\n",
        "\n",
        "The Polybius Square Cipher is a classical cipher. Sources include:\n",
        "\n",
        "1.  **Wikipedia:** The Wikipedia page on Polybius Square provides a good overview of its history and method. ([https://en.wikipedia.org/wiki/Polybius_square](https://en.wikipedia.org/wiki/Polybius_square))\n",
        "2.  **Cryptography Textbooks and Websites:** Many resources covering classical ciphers include the Polybius Square Cipher as a simple substitution cipher.\n",
        "3.  **Educational Resources:** Various websites and materials for learning about cryptography explain this cipher."
      ],
      "metadata": {
        "id": "OskLnOGlPWUX"
      }
    }
  ],
  "metadata": {
    "language_info": {
      "name": "python"
    },
    "colab": {
      "provenance": []
    },
    "kernelspec": {
      "name": "python3",
      "display_name": "Python 3"
    }
  },
  "nbformat": 4,
  "nbformat_minor": 0
}