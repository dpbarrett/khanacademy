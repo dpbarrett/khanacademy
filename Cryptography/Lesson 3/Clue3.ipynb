{
 "cells": [
  {
   "cell_type": "markdown",
   "metadata": {},
   "source": [
    "# Clue #3\n",
    "\n",
    "- Hint 1: [Visual Telegraphs](https://www.khanacademy.org/computing/computer-science/informationtheory/info-theory/v/history-of-optical-telegraphs-language-of-coins-5-9)\n",
    "\n",
    "## Transcript of Message:\n",
    "\n",
    "44541134541123335344541242\n",
    "43424432514121231131135315\n",
    "54425442444243443251415343\n",
    "54324234411125513553341342\n",
    "43225343114454345343225134\n",
    "31421432513412533412155415\n",
    "34513351444411225144425442\n",
    "44441534512355154321345111\n",
    "13112123514254315333214243\n",
    "51445315341434512542531544\n",
    "335154325341443 (cut off)\n",
    "43513544"
   ]
  }
 ],
 "metadata": {
  "language_info": {
   "name": "python"
  }
 },
 "nbformat": 4,
 "nbformat_minor": 2
}
