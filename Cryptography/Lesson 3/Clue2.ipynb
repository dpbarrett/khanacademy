{
 "cells": [
  {
   "cell_type": "markdown",
   "metadata": {},
   "source": [
    "# Clue #2\n",
    "\n",
    "- Hint 1: [Polyalphabetic Review](https://www.khanacademy.org/math/applied-math/cryptography/crypt/v/polyalphabetic-cipher)\n",
    "- Hint 2: [Holbein the Younger, The Ambassadors](https://www.khanacademy.org/humanities/renaissance-reformation/northern-renaissance1/holbein/v/hans-holbein-the-younger-the-ambassadors-1533)\n",
    "- Hint 3: Multiplying by 2\n",
    "\n",
    "## Transcript of Message:\n",
    "\n",
    "Klkbnqlcytfysryucocphgbdizz\n",
    "fcmjwkuchzyeswfogmmetwwossd\n",
    "chrzyldsbwnydednzwnefydthtd\n",
    "dbojicemlucdygicczhoadrzcyl\n",
    "wadsxpilpiecskomoltejtkmqqy\n",
    "mehpmmjxyolwpeewjckznpccpsv\n",
    "sxauyodhalmriocwpelwbcniyfx\n",
    "mwjcemcyrazdqlsomdbfljwnbij\n",
    "xpddsyoehxpceswtoxwbleecsax\n",
    "cnuetzywfn\n"
   ]
  }
 ],
 "metadata": {
  "language_info": {
   "name": "python"
  }
 },
 "nbformat": 4,
 "nbformat_minor": 2
}
