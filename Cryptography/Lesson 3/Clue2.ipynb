{
  "cells": [
    {
      "cell_type": "markdown",
      "metadata": {
        "id": "GeXohOelJVlA"
      },
      "source": [
        "# Clue #2\n",
        "\n",
        "- Hint 1: [Polyalphabetic Review](https://www.khanacademy.org/math/applied-math/cryptography/crypt/v/polyalphabetic-cipher)\n",
        "- Hint 2: [Holbein the Younger, The Ambassadors](https://www.khanacademy.org/humanities/renaissance-reformation/northern-renaissance1/holbein/v/hans-holbein-the-younger-the-ambassadors-1533)\n",
        "- Hint 3: Multiplying by 2\n",
        "\n",
        "## Transcript of Message:\n",
        "\n",
        "Klkbnqlcytfysryucocphgbdizz\n",
        "fcmjwkuchzyeswfogmmetwwossd\n",
        "chrzyldsbwnydednzwnefydthtd\n",
        "dbojicemlucdygicczhoadrzcyl\n",
        "wadsxpilpiecskomoltejtkmqqy\n",
        "mehpmmjxyolwpeewjckznpccpsv\n",
        "sxauyodhalmriocwpelwbcniyfx\n",
        "mwjcemcyrazdqlsomdbfljwnbij\n",
        "xpddsyoehxpceswtoxwbleecsax\n",
        "cnuetzywfn\n"
      ]
    },
    {
      "cell_type": "code",
      "source": [
        "msg = \"Klkbnqlcytfysryucocphgbdizzfcmjwkuchzyeswfogmmetwwossdchrzyldsbwnydednzwnefydthtddbojicemlucdygicczhoadrzcylwadsxpilpiecskomoltejtkmqqymehpmmjxyolwpeewjckznpccpsvsxauyodhalmriocwpelwbcniyfxmwjcemcyrazdqlsomdbfljwnbijxpddsyoehxpceswtoxwbleecsaxcnuetzywfn\"\n",
        "\n",
        "def vigenere_cipher(text, key, alphabet='ABCDEFGHIJKLMNOPQRSTUVWXYZ', case_sensitive=False, handle_non_alpha='keep', decrypt=False):\n",
        "    \"\"\"\n",
        "    Implements the Vigenere Cipher for encryption and decryption.\n",
        "\n",
        "    Args:\n",
        "        text (str): The input string to be processed.\n",
        "        key (str): The keyword used for the cipher.\n",
        "        alphabet (str, optional): The alphabet to use for the cipher.\n",
        "            Defaults to uppercase English letters.\n",
        "        case_sensitive (bool, optional): Whether to treat uppercase and lowercase\n",
        "            letters separately. Defaults to False (case-insensitive).\n",
        "        handle_non_alpha (str, optional): How to handle characters not in the\n",
        "            alphabet. Options are 'keep' (default) or 'ignore'.\n",
        "        decrypt (bool, optional): If True, decrypt the text. Defaults to False\n",
        "            (encrypt).\n",
        "\n",
        "    Returns:\n",
        "        str: The encrypted or decrypted text.\n",
        "    \"\"\"\n",
        "    result = []\n",
        "    key_length = len(key)\n",
        "    alphabet_list = list(alphabet)\n",
        "    alphabet_length = len(alphabet_list)\n",
        "\n",
        "    if not case_sensitive:\n",
        "        text = text.upper()\n",
        "        key = key.upper()\n",
        "\n",
        "    for i, char in enumerate(text):\n",
        "        if char in alphabet_list:\n",
        "            char_index = alphabet_list.index(char)\n",
        "            key_char = key[i % key_length]\n",
        "            key_index = alphabet_list.index(key_char)\n",
        "\n",
        "            if decrypt:\n",
        "                shifted_index = (char_index - key_index + alphabet_length) % alphabet_length\n",
        "            else:\n",
        "                shifted_index = (char_index + key_index) % alphabet_length\n",
        "\n",
        "            result.append(alphabet_list[shifted_index])\n",
        "        else:\n",
        "            if handle_non_alpha == 'keep':\n",
        "                result.append(char)\n",
        "            elif handle_non_alpha == 'ignore':\n",
        "                pass\n",
        "\n",
        "    return \"\".join(result)\n",
        "\n",
        "\n",
        "print(vigenere_cipher(msg, \"sskkuullll\", decrypt=True))\n"
      ],
      "metadata": {
        "id": "u0VJBPNdK-i9",
        "outputId": "4917cf27-e84d-49c7-d1cf-0d3f1c4606ba",
        "colab": {
          "base_uri": "https://localhost:8080/"
        }
      },
      "execution_count": 7,
      "outputs": [
        {
          "output_type": "stream",
          "name": "stdout",
          "text": [
            "STARTWARNINGIHEARDREPORTOFOURBREAKINONTHENEWSSTILLWAITINGONALARMTESTSCHEDULESIWILLREPORTBACKTOMORROWWITHFINALPLANFOREXTRASECURITYISUGGESTWEBURNOURLETTERSAFTERREADINGANDSWITCHOURLETTERSTONUMBERSUSINGPOLYBIUSSQUAREDROPMESSAGEUNDERTHEBENCHATTRAINSTATIONEND\n"
          ]
        }
      ]
    },
    {
      "cell_type": "markdown",
      "source": [
        "\n",
        "\n",
        "> START\n",
        "WARNING\n",
        "I HEARD REPORT OF OUR BREAK IN ON THE NEWS\n",
        "STILL WAITING ON ALARM TEST SCHEDULES\n",
        "I WILL REPORT BACK TOMORROW WITH FINAL PLAN\n",
        "FOR EXTRA SECURITY I SUGGEST WE BURN OUR LETTERS AFTER READING AND SWITCH OUR LETTERS TO NUMBERS USING POLYBIUS SQUARE\n",
        "DROP MESSAGE UNDER THE BENCH AT TRAIN STATION\n",
        "END\n",
        "\n"
      ],
      "metadata": {
        "id": "EmH--OpWMUdm"
      }
    },
    {
      "cell_type": "markdown",
      "source": [
        "## Explanation of the Code\n",
        "\n",
        "The Python code defines a function `vigenere_cipher` that implements the Vigenere Cipher for both encryption and decryption, offering configurability through parameters.\n",
        "\n",
        "**Parameters:**\n",
        "\n",
        "-   `text` (str): The input string to be encrypted or decrypted.\n",
        "-   `key` (str): The keyword used for the Vigenere cipher. This key determines the shift applied to each character of the text.\n",
        "-   `alphabet` (str, optional): A string defining the alphabet used for the cipher. It defaults to uppercase English letters ('ABCDEFGHIJKLMNOPQRSTUVWXYZ'). You can customize this to include other characters or a different order.\n",
        "-   `case_sensitive` (bool, optional): A flag that determines whether the cipher should treat uppercase and lowercase letters differently. If set to `False` (default), the input text and key are converted to uppercase for processing, effectively making the cipher case-insensitive. If set to `True`, the case is preserved, and the shift is applied within the provided alphabet based on the case.\n",
        "-   `handle_non_alpha` (str, optional): Specifies how characters in the input text that are not found in the `alphabet` should be handled. The default is `'keep'`, which includes these characters in the output unchanged. Another option is `'ignore'`, which will exclude these characters from the output.\n",
        "-   `decrypt` (bool, optional): A boolean flag that, when set to `True`, configures the function to perform decryption instead of encryption. The default is `False` (encryption).\n",
        "\n",
        "**Functionality:**\n",
        "\n",
        "1.  **Initialization:** The function initializes an empty list `result` to store the processed characters. It also calculates the length of the key and converts the alphabet string to a list for easier indexing.\n",
        "2.  **Case Sensitivity Handling:** If `case_sensitive` is `False`, the input `text` and `key` are converted to uppercase.\n",
        "3.  **Iteration:** The code iterates through each character of the input `text` along with its index.\n",
        "4.  **Character Check:** For each character, it checks if it is present in the defined `alphabet`.\n",
        "5.  **Encryption/Decryption Logic:**\n",
        "    -   If the character is in the `alphabet`, its index within the alphabet is found.\n",
        "    -   The corresponding shift value is determined by the character in the `key` at the current position (cycling through the key using the modulo operator). The index of this key character in the alphabet provides the shift amount.\n",
        "    -   For encryption (`decrypt` is `False`), the shifted index is calculated by adding the character index and the key index, then taking the modulo of the alphabet length to wrap around.\n",
        "    -   For decryption (`decrypt` is `True`), the shifted index is calculated by subtracting the key index from the character index. To handle potential negative results from subtraction, the alphabet length is added before taking the modulo.\n",
        "    -   The character at the `shifted_index` in the `alphabet` is appended to the `result`.\n",
        "6.  **Handling Non-Alphabetic Characters:** If a character from the input `text` is not found in the `alphabet`, it is either kept as is (if `handle_non_alpha` is `'keep'`) or ignored (if `handle_non_alpha` is `'ignore'`).\n",
        "7.  **Output:** Finally, the function joins the characters in the `result` list to form the final encrypted or decrypted string, which is returned."
      ],
      "metadata": {
        "id": "3KPAxxXwNCkh"
      }
    },
    {
      "cell_type": "markdown",
      "source": [
        "## Explanation of Efficiency\n",
        "\n",
        "The efficiency of the `vigenere_cipher` function can be analyzed as follows:\n",
        "\n",
        "**Time Complexity:**\n",
        "\n",
        "-   The function iterates through each character in the input `text`. Let $L$ be the length of the `text`. This loop runs $L$ times.\n",
        "-   Inside the loop:\n",
        "    -   Checking if a character is in the `alphabet` (length $A$) using `in` on a list takes $O(A)$ in the worst case.\n",
        "    -   Finding the index of a character in the `alphabet` list using `alphabet_list.index()` also takes $O(A)$ in the worst case. This happens for both the text character and the key character.\n",
        "    -   The rest of the operations (modulo, indexing, appending to list) take constant time, $O(1)$.\n",
        "-   The key is accessed using the modulo operator, which is $O(1)$.\n",
        "-   Therefore, the overall time complexity of the function is $O(L \\times A)$. If the alphabet size $A$ is considered constant (e.g., for a standard alphabet), the time complexity is $O(L)$, which is linear with respect to the length of the input text. The length of the key does not affect the per-character processing time, but the loop continues for the length of the text.\n",
        "\n",
        "**Space Complexity:**\n",
        "\n",
        "-   The function creates a list `result` to store the output, which can have a length up to $L$ (length of the text).\n",
        "-   It also uses the input `text`, `key`, and the `alphabet` (converted to a list), which take space proportional to their lengths. Let $K$ be the length of the key and $A$ be the length of the alphabet. The space complexity is $O(L + K + A)$. In many cases, $K$ and $A$ are much smaller than or comparable to $L$, so the space complexity is often considered $O(L)$.\n",
        "\n",
        "**Use of Bit-wise Operations:**\n",
        "\n",
        "Bit-wise operations are not directly applicable to the Vigenere Cipher, which operates on characters based on their position in an alphabet.\n",
        "\n",
        "**Use of Built-in Python Operations:**\n",
        "\n",
        "The code uses built-in Python operations like string manipulation (`upper()`, `join()`), list operations (`list()`, `append()`, `index()`), and the modulo operator, which are generally efficient for the tasks they perform.\n",
        "\n",
        "**Possible Optimizations:**\n",
        "\n",
        "-   For repeated use with the same alphabet, converting the alphabet to a dictionary mapping characters to indices could potentially speed up the lookups (`in` and `index`) from $O(A)$ to $O(1)$ on average, which might improve the overall performance, especially for larger alphabets."
      ],
      "metadata": {
        "id": "pUJL64lcNHmu"
      }
    },
    {
      "cell_type": "markdown",
      "source": [
        "## Sources\n",
        "\n",
        "The Vigenere Cipher is a well-known method of encryption. Here are some sources:\n",
        "\n",
        "1.  **Wikipedia:** The Wikipedia page on Vigenere Cipher provides a comprehensive explanation of its history, method, and cryptanalysis. ([https://en.wikipedia.org/wiki/Vigen%C3%A8re_cipher](https://en.wikipedia.org/wiki/Vigen%C3%A8re_cipher))\n",
        "2.  **Cryptography Textbooks and Courses:** Most introductory materials on cryptography cover the Vigenere Cipher as a classic example of a polyalphabetic substitution cipher.\n",
        "3.  **Online Resources:** Many websites and educational platforms offer explanations and implementations of the Vigenere Cipher."
      ],
      "metadata": {
        "id": "uGVj73t3NMyO"
      }
    }
  ],
  "metadata": {
    "language_info": {
      "name": "python"
    },
    "colab": {
      "provenance": []
    },
    "kernelspec": {
      "name": "python3",
      "display_name": "Python 3"
    }
  },
  "nbformat": 4,
  "nbformat_minor": 0
}